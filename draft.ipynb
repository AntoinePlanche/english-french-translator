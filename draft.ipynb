{
 "cells": [
  {
   "cell_type": "code",
   "execution_count": 128,
   "metadata": {},
   "outputs": [],
   "source": [
    "import math\n",
    "import torch\n",
    "from torch import nn\n",
    "import torch.nn.functional as F\n",
    "import numpy as np\n",
    "import pandas as pd"
   ]
  },
  {
   "cell_type": "code",
   "execution_count": 129,
   "metadata": {},
   "outputs": [],
   "source": [
    "class FeedForward(nn.Module):\n",
    "    def __init__(self, d_model, hidden, drop_prob=0.1):\n",
    "        super().__init__()\n",
    "        self.linear1 = nn.Linear(d_model, hidden)\n",
    "        self.linear2 = nn.Linear(hidden, d_model)\n",
    "        self.relu = nn.ReLU()\n",
    "        self.dropout = nn.Dropout(p=drop_prob)\n",
    "\n",
    "    def forward(self, x):\n",
    "        x = self.linear1(x)\n",
    "        x = self.relu(x)\n",
    "        x = self.dropout(x)\n",
    "        x = self.linear2(x)\n",
    "        return x"
   ]
  },
  {
   "cell_type": "code",
   "execution_count": 130,
   "metadata": {},
   "outputs": [],
   "source": [
    "class LayerNormalization(nn.Module):\n",
    "    def __init__(self, parameters_shape, eps=1e-5):\n",
    "        super().__init__()\n",
    "        self.parameters_shape = parameters_shape # [d_model]\n",
    "        self.eps = eps\n",
    "        self.gamma = nn.Parameter(torch.ones(parameters_shape))\n",
    "        self.beta = nn.Parameter(torch.zeros(parameters_shape))\n",
    "\n",
    "    def forward(self, inputs): #  batch_size * max_length * d_model\n",
    "        dims = [-(i+1) for i in range(len(self.parameters_shape))]\n",
    "        mean = inputs.mean(dim=dims, keepdim=True)\n",
    "        var = ((inputs - mean)**2).mean(dim=dims, keepdim=True)\n",
    "        std = (var + self.eps).sqrt()\n",
    "        y = (inputs - mean) / std\n",
    "        out = self.gamma * y + self.beta\n",
    "        return out"
   ]
  },
  {
   "cell_type": "code",
   "execution_count": 131,
   "metadata": {},
   "outputs": [],
   "source": [
    "class MultiHeadCrossAttention(nn.Module):\n",
    "    def __init__(self, d_model, num_heads):\n",
    "        super().__init__()\n",
    "        self.num_heads = num_heads\n",
    "        self.head_dim = d_model // num_heads\n",
    "        # 3 * d_model to simulate three independant matrix, we can consider these three matrices as concatenate together\n",
    "        self.kv_layer = nn.Linear(d_model, 2 * d_model)\n",
    "        self.q_layer = nn.Linear(d_model, d_model)\n",
    "        self.linear_layer = nn.Linear(d_model, d_model)\n",
    "    \n",
    "    def forward(self, x, y,  mask=None):\n",
    "        batch_size, sequence_length, _ = x.size()\n",
    "        kv = self.kv_layer(x)\n",
    "        q = self.q_layer(x)\n",
    "        # We create dimension for the heads to parallelize the process.\n",
    "        # The last dimension contains the matrix q, k and v\n",
    "        kv = kv.reshape(batch_size, sequence_length, self.num_heads, 2 * self.head_dim)\n",
    "        q = q.reshape(batch_size, sequence_length, self.num_heads, self.head_dim)\n",
    "        # We move the head dimension to the second position and the sequence length dimension to the third place.\n",
    "        # This allows us to parallelize the calculations of the dot products K and Q for each word and then for each head.\n",
    "        kv = kv.permute(0, 2, 1, 3)\n",
    "        q = q.permute(0, 2, 1, 3)\n",
    "        # We retrieve independent q, k and v matrices by chuking the qkv matrix on the last dimension\n",
    "        k, v = kv.chunk(2, dim=-1)\n",
    "        attention = (q @ k.transpose(-1, -2)) / math.sqrt(self.head_dim)\n",
    "        if mask is not None:\n",
    "            attention += mask\n",
    "        attention = F.softmax(attention, dim=-1)\n",
    "        values = attention @ v\n",
    "        # Concatenation of all the different head, strictly equivalent to (batch_size, sequence_length, d_model)\n",
    "        values = values.reshape(batch_size, sequence_length, self.num_heads*self.head_dim)\n",
    "        out = self.linear_layer(values)\n",
    "        return out"
   ]
  },
  {
   "cell_type": "code",
   "execution_count": 132,
   "metadata": {},
   "outputs": [],
   "source": [
    "class MultiHeadAttention(nn.Module):\n",
    "    def __init__(self, d_model, num_heads):\n",
    "        super().__init__()\n",
    "        self.num_heads = num_heads\n",
    "        self.head_dim = d_model // num_heads\n",
    "        # 3 * d_model to simulate three independant matrix, we can consider these three matrices as concatenate together\n",
    "        self.qkv_layer = nn.Linear(d_model, 3 * d_model)\n",
    "        self.linear_layer = nn.Linear(d_model, d_model)\n",
    "    \n",
    "    def forward(self, x, mask=None):\n",
    "        batch_size, sequence_length, _ = x.size()\n",
    "        qkv = self.qkv_layer(x)\n",
    "        # We create dimension for the heads to parallelize the process.\n",
    "        # The last dimension contains the matrix q, k and v\n",
    "        qkv = qkv.reshape(batch_size, sequence_length, self.num_heads, 3 * self.head_dim)\n",
    "        # We move the head dimension to the second position and the sequence length dimension to the third place.\n",
    "        # This allows us to parallelize the calculations of the dot products K and Q for each word and then for each head.\n",
    "        qkv = qkv.permute(0, 2, 1, 3)\n",
    "        # We retrieve independent q, k and v matrices by chuking the qkv matrix on the last dimension\n",
    "        q, k, v = qkv.chunk(3, dim=-1)\n",
    "        attention = (q @ k.transpose(-1, -2)) / math.sqrt(self.head_dim)\n",
    "        if mask is not None:\n",
    "            attention += mask\n",
    "        attention = F.softmax(attention, dim=-1)\n",
    "        values = attention @ v\n",
    "        # Concatenation of all the different head, strictly equivalent to (batch_size, sequence_length, d_model)\n",
    "        values = values.reshape(batch_size, sequence_length, self.num_heads*self.head_dim)\n",
    "        out = self.linear_layer(values)\n",
    "        return out"
   ]
  },
  {
   "cell_type": "code",
   "execution_count": 133,
   "metadata": {},
   "outputs": [],
   "source": [
    "class EncoderLayer(nn.Module):\n",
    "    def __init__(self, d_model, ffn_hidden, num_heads, drop_prob):\n",
    "        super().__init__()\n",
    "        self.attention = MultiHeadAttention(d_model=d_model, num_heads=num_heads)\n",
    "        self.dropout1 = nn.Dropout(p=drop_prob)\n",
    "        self.norm1 = LayerNormalization(parameters_shape=[d_model])\n",
    "        self.ffn = FeedForward(d_model=d_model, hidden=ffn_hidden, drop_prob=drop_prob)\n",
    "        self.dropout2 = nn.Dropout(p=drop_prob)\n",
    "        self.norm2 = LayerNormalization(parameters_shape=[d_model])\n",
    "\n",
    "\n",
    "    def forward(self, x):\n",
    "        residual_x = x\n",
    "        x= self.attention(x, mask=None) # The encoder has to be able to look at any other word in the sentence\n",
    "        x = self.dropout1(x)\n",
    "        x = self.norm1(x + residual_x)\n",
    "        residual_x = x\n",
    "        x = self.ffn(x)\n",
    "        x = self.dropout2(x)\n",
    "        x = self.norm2(x + residual_x)\n",
    "        return x\n"
   ]
  },
  {
   "cell_type": "code",
   "execution_count": 134,
   "metadata": {},
   "outputs": [],
   "source": [
    "class Encoder(nn.Module):\n",
    "    def __init__(self, d_model, ffn_hidden, num_heads, drop_prob, num_layers):\n",
    "        super().__init__()\n",
    "        self.layers = nn.Sequential(*(EncoderLayer(d_model, ffn_hidden, num_heads, drop_prob)\n",
    "                                      for _ in range(num_layers)))\n",
    "\n",
    "    def forward(self,x):\n",
    "        x = self.layers(x)\n",
    "        return x"
   ]
  },
  {
   "cell_type": "code",
   "execution_count": 135,
   "metadata": {},
   "outputs": [],
   "source": [
    "class DecoderLayer(nn.Module):\n",
    "    def __init__(self, d_model, ffn_hidden, num_heads, drop_prob):\n",
    "        super().__init__()\n",
    "        self.attention = MultiHeadAttention(d_model=d_model, num_heads=num_heads)\n",
    "        self.dropout1 = nn.Dropout(p=drop_prob)\n",
    "        self.norm1 = LayerNormalization(parameters_shape=[d_model])\n",
    "        self.cross_attention = MultiHeadCrossAttention(d_model=d_model, num_heads=num_heads)\n",
    "        self.dropout2 = nn.Dropout(p=drop_prob)\n",
    "        self.norm2 = LayerNormalization(parameters_shape=[d_model])\n",
    "        self.ffn = FeedForward(d_model=d_model, hidden=ffn_hidden, drop_prob=drop_prob)\n",
    "        self.dropout3 = nn.Dropout(p=drop_prob)\n",
    "        self.norm3 = LayerNormalization(parameters_shape=[d_model])\n",
    "\n",
    "\n",
    "    def forward(self, x, y, decoder_mask):\n",
    "        residual_y = y\n",
    "        y = self.attention(y, mask=decoder_mask)\n",
    "        y = self.dropout1(y)\n",
    "        y = self.norm1(y + residual_y)\n",
    "        residual_y = y\n",
    "        y = self.cross_attention(x, y, mask = None)\n",
    "        y = self.dropout2(y)\n",
    "        y = self.norm2(y)\n",
    "        y = self.ffn(y)\n",
    "        y = self.dropout3(y)\n",
    "        y = self.norm3(y + residual_y)\n",
    "        return y"
   ]
  },
  {
   "cell_type": "code",
   "execution_count": 136,
   "metadata": {},
   "outputs": [],
   "source": [
    "class SequentialDecoder(nn.Sequential):\n",
    "    def forward(self, *inputs):\n",
    "        x, y, mask = inputs\n",
    "        for module in self._modules.values():\n",
    "            y = module(x, y, mask)\n",
    "        return y"
   ]
  },
  {
   "cell_type": "code",
   "execution_count": 137,
   "metadata": {},
   "outputs": [],
   "source": [
    "class Decoder(nn.Module):\n",
    "    def __init__(self, d_model, ffn_hidden, num_heads, drop_prob, num_layers):\n",
    "        super().__init__()\n",
    "        self.layers = SequentialDecoder(*(DecoderLayer(d_model, ffn_hidden, num_heads, drop_prob)\n",
    "                                      for _ in range(num_layers)))\n",
    "\n",
    "    def forward(self, x, y , mask):\n",
    "        x = self.layers(x, y, mask)\n",
    "        return x"
   ]
  },
  {
   "cell_type": "code",
   "execution_count": 138,
   "metadata": {},
   "outputs": [],
   "source": [
    "d_model = 512 # embedding dimension\n",
    "max_length = 200 # maximum number of words for one translation\n",
    "batch_size = 32 # number of \"sentence\" per batch\n",
    "num_heads = 8 # number of heads during the self attention\n",
    "drop_prob = 0.1 # probability of dropout for a better generalization\n",
    "ffn_hidden = 2048 # expend 512 to 2048 during feed forward step\n",
    "num_layers = 5 # number of sequential encoder"
   ]
  },
  {
   "cell_type": "code",
   "execution_count": 139,
   "metadata": {},
   "outputs": [],
   "source": [
    "encoder = Encoder(d_model, ffn_hidden, num_heads, drop_prob, num_layers)"
   ]
  },
  {
   "cell_type": "code",
   "execution_count": 140,
   "metadata": {},
   "outputs": [
    {
     "data": {
      "text/plain": [
       "15761920"
      ]
     },
     "execution_count": 140,
     "metadata": {},
     "output_type": "execute_result"
    }
   ],
   "source": [
    "sum(p.numel() for p in encoder.parameters() if p.requires_grad)"
   ]
  },
  {
   "cell_type": "code",
   "execution_count": 141,
   "metadata": {},
   "outputs": [
    {
     "name": "stdout",
     "output_type": "stream",
     "text": [
      "qkv shape after reshape : torch.Size([32, 200, 8, 192])\n",
      "qkv shape after permute : torch.Size([32, 8, 200, 192])\n",
      "q shape : torch.Size([32, 8, 200, 64])\n",
      "k shape : torch.Size([32, 8, 200, 64])\n",
      "attention shape : torch.Size([32, 8, 200, 200])\n"
     ]
    },
    {
     "name": "stdout",
     "output_type": "stream",
     "text": [
      "qkv shape after reshape : torch.Size([32, 200, 8, 192])\n",
      "qkv shape after permute : torch.Size([32, 8, 200, 192])\n",
      "q shape : torch.Size([32, 8, 200, 64])\n",
      "k shape : torch.Size([32, 8, 200, 64])\n",
      "attention shape : torch.Size([32, 8, 200, 200])\n",
      "qkv shape after reshape : torch.Size([32, 200, 8, 192])\n",
      "qkv shape after permute : torch.Size([32, 8, 200, 192])\n",
      "q shape : torch.Size([32, 8, 200, 64])\n",
      "k shape : torch.Size([32, 8, 200, 64])\n",
      "attention shape : torch.Size([32, 8, 200, 200])\n",
      "qkv shape after reshape : torch.Size([32, 200, 8, 192])\n",
      "qkv shape after permute : torch.Size([32, 8, 200, 192])\n",
      "q shape : torch.Size([32, 8, 200, 64])\n",
      "k shape : torch.Size([32, 8, 200, 64])\n",
      "attention shape : torch.Size([32, 8, 200, 200])\n",
      "qkv shape after reshape : torch.Size([32, 200, 8, 192])\n",
      "qkv shape after permute : torch.Size([32, 8, 200, 192])\n",
      "q shape : torch.Size([32, 8, 200, 64])\n",
      "k shape : torch.Size([32, 8, 200, 64])\n",
      "attention shape : torch.Size([32, 8, 200, 200])\n"
     ]
    },
    {
     "data": {
      "text/plain": [
       "torch.Size([32, 200, 512])"
      ]
     },
     "execution_count": 141,
     "metadata": {},
     "output_type": "execute_result"
    }
   ],
   "source": [
    "x = torch.randn((batch_size, max_length, d_model))\n",
    "x = encoder(x)\n",
    "x.shape"
   ]
  },
  {
   "cell_type": "code",
   "execution_count": 142,
   "metadata": {},
   "outputs": [],
   "source": [
    "decoder = Decoder(d_model, ffn_hidden, num_heads, drop_prob, num_layers)"
   ]
  },
  {
   "cell_type": "code",
   "execution_count": 143,
   "metadata": {},
   "outputs": [
    {
     "data": {
      "text/plain": [
       "21020160"
      ]
     },
     "execution_count": 143,
     "metadata": {},
     "output_type": "execute_result"
    }
   ],
   "source": [
    "sum(p.numel() for p in decoder.parameters() if p.requires_grad)"
   ]
  },
  {
   "cell_type": "code",
   "execution_count": 144,
   "metadata": {},
   "outputs": [
    {
     "name": "stdout",
     "output_type": "stream",
     "text": [
      "qkv shape after reshape : torch.Size([32, 200, 8, 192])\n",
      "qkv shape after permute : torch.Size([32, 8, 200, 192])\n",
      "q shape : torch.Size([32, 8, 200, 64])\n",
      "k shape : torch.Size([32, 8, 200, 64])\n",
      "attention shape : torch.Size([32, 8, 200, 200])\n",
      "qkv shape after reshape : torch.Size([32, 200, 8, 192])\n",
      "qkv shape after permute : torch.Size([32, 8, 200, 192])\n",
      "q shape : torch.Size([32, 8, 200, 64])\n",
      "k shape : torch.Size([32, 8, 200, 64])\n",
      "attention shape : torch.Size([32, 8, 200, 200])\n",
      "qkv shape after reshape : torch.Size([32, 200, 8, 192])\n",
      "qkv shape after permute : torch.Size([32, 8, 200, 192])\n",
      "q shape : torch.Size([32, 8, 200, 64])\n",
      "k shape : torch.Size([32, 8, 200, 64])\n",
      "attention shape : torch.Size([32, 8, 200, 200])\n",
      "qkv shape after reshape : torch.Size([32, 200, 8, 192])\n",
      "qkv shape after permute : torch.Size([32, 8, 200, 192])\n",
      "q shape : torch.Size([32, 8, 200, 64])\n",
      "k shape : torch.Size([32, 8, 200, 64])\n",
      "attention shape : torch.Size([32, 8, 200, 200])\n",
      "qkv shape after reshape : torch.Size([32, 200, 8, 192])\n",
      "qkv shape after permute : torch.Size([32, 8, 200, 192])\n",
      "q shape : torch.Size([32, 8, 200, 64])\n",
      "k shape : torch.Size([32, 8, 200, 64])\n",
      "attention shape : torch.Size([32, 8, 200, 200])\n"
     ]
    },
    {
     "data": {
      "text/plain": [
       "torch.Size([32, 200, 512])"
      ]
     },
     "execution_count": 144,
     "metadata": {},
     "output_type": "execute_result"
    }
   ],
   "source": [
    "x = torch.randn((batch_size, max_length, d_model)) # english sentence\n",
    "y = torch.randn((batch_size, max_length, d_model)) # french sentence\n",
    "mask = torch.full([max_length, max_length] , float('-inf'))\n",
    "mask = torch.triu(mask, diagonal=1)\n",
    "out = decoder(x, y, mask)\n",
    "out.shape"
   ]
  }
 ],
 "metadata": {
  "kernelspec": {
   "display_name": "Python 3",
   "language": "python",
   "name": "python3"
  },
  "language_info": {
   "codemirror_mode": {
    "name": "ipython",
    "version": 3
   },
   "file_extension": ".py",
   "mimetype": "text/x-python",
   "name": "python",
   "nbconvert_exporter": "python",
   "pygments_lexer": "ipython3",
   "version": "3.11.5"
  }
 },
 "nbformat": 4,
 "nbformat_minor": 2
}
