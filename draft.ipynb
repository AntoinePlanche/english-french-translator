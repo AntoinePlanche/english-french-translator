{
 "cells": [
  {
   "cell_type": "code",
   "execution_count": 22,
   "metadata": {},
   "outputs": [],
   "source": [
    "import math\n",
    "import torch\n",
    "from torch import nn\n",
    "import torch.nn.functional as F\n",
    "import numpy as np\n",
    "import pandas as pd"
   ]
  },
  {
   "cell_type": "code",
   "execution_count": 21,
   "metadata": {},
   "outputs": [
    {
     "data": {
      "text/plain": [
       "tensor([2.])"
      ]
     },
     "execution_count": 21,
     "metadata": {},
     "output_type": "execute_result"
    }
   ],
   "source": [
    "torch.sqrt(torch.Tensor([4]))"
   ]
  },
  {
   "cell_type": "code",
   "execution_count": 23,
   "metadata": {},
   "outputs": [],
   "source": [
    "class MultiHeadAttention(nn.Module):\n",
    "    def __init__(self, d_model, num_heads):\n",
    "        super().__init__()\n",
    "        self.d_model = d_model\n",
    "        self.num_heads = num_heads\n",
    "        self.head_dim = d_model // num_heads\n",
    "        # 3 * d_model to simulate three independant matrix, we can consider these three matrices as concatenate together\n",
    "        self.dkv = nn.Linear(d_model, 3 * d_model)\n",
    "        self.linear_layer = nn.Linear(d_model, d_model)\n",
    "    \n",
    "    def forward(self, x, mask=None):\n",
    "        batch_size, sequence_length, d_model = x.size()\n",
    "        qkv = self.qkv_layer(x)\n",
    "        # We create dimension for the heads to parallelize the process.\n",
    "        # The last dimension contains the matrix q, k and v\n",
    "        qkv = qkv.shape(batch_size, sequence_length, self.num_heads, 3 * self.head_dim)\n",
    "        # We move the head dimension to the second position and the sequence length dimension to the third place.\n",
    "        # This allows us to parallelize the calculations of the dot products K and Q for each word and then for each head.\n",
    "        qkv.permute(0, 2, 1, 3)\n",
    "        # We retrieve independent q, k and v matrices by chuking the qkv matrix on the last dimension\n",
    "        q, k, v = qkv.chunk(3, dim=-1)\n",
    "        attention_weights = (q @ k.transpose(-2, -1)) / math.sqrt(self.head_dim)\n",
    "        if mask is not None:\n",
    "            attention_weights += mask\n",
    "        attention = F\n",
    "\n",
    "         \n",
    "\n"
   ]
  },
  {
   "cell_type": "code",
   "execution_count": null,
   "metadata": {},
   "outputs": [],
   "source": [
    "class EncoderLayer(nn.Module):\n",
    "    def __init__(self, d_model, ffn_hidden, num_heads, drop_prob):\n",
    "        super().__init__()\n",
    "        self.attention = MultiHeadAttention(d_model=d_model, num_heads=num_heads)\n",
    "        self.dropout1 = nn.Dropout(p=drop_prob)\n",
    "        self.norm1 = LayerNormalization(parameters_shape=[d_model])\n",
    "        self.ffn = FeedForward(d_model=d_model, hidden=ffn_hidden, drop_prob=drop_prob)\n",
    "        self.dropout2 = nn.Dropout(p=drop_prob)\n",
    "        self.norm2 = LayerNormalization(parameters_shape=[d_model])\n",
    "\n",
    "\n",
    "    def forward(self, x):\n",
    "        residual_x = x\n",
    "        x= self.attention(x, mask=None) # The encoder has to be able to look at any other word in the sentence\n",
    "        x = self.dropout1(x)\n",
    "        x = self.norm1(x + residual_x)\n",
    "        residual_x = x\n",
    "        x = self.ffn(x)\n",
    "        x = self.dropout2(x)\n",
    "        x = self.norm2(x + residual_x)\n",
    "        return x\n"
   ]
  },
  {
   "cell_type": "code",
   "execution_count": null,
   "metadata": {},
   "outputs": [],
   "source": [
    "class Encoder(nn.Module):\n",
    "    def __init__(self, d_model, ffn_hidden, num_heads, drop_prob, num_layers):\n",
    "        super().__init__()\n",
    "        self.layers = nn.Sequential(*(EncoderLayer(d_model, ffn_hidden, num_heads, drop_prob, num_layers)\n",
    "                                      for _ in range(num_layers)))\n",
    "\n",
    "    def forward(self,x):\n",
    "        x = self.layers(x)\n",
    "        return x"
   ]
  },
  {
   "cell_type": "code",
   "execution_count": 18,
   "metadata": {},
   "outputs": [],
   "source": [
    "d_model = 512 # embedding dimension\n",
    "max_length = 200 # maximum number of words for one translation\n",
    "batch_size = 32 # number of \"sentence\" per batch\n",
    "num_heads = 8 # number of heads during the self attention\n",
    "drop_prob = 0.1 # probability of dropout for a better generalization\n",
    "ffn_hidden = 2048 # expend 512 to 2048 during feed forward step\n",
    "num_layers = 5 # number of sequential encoder"
   ]
  },
  {
   "cell_type": "code",
   "execution_count": null,
   "metadata": {},
   "outputs": [],
   "source": [
    "encoder = Encoder(d_model, ffn_hidden, num_heads, drop_prob, num_layers)"
   ]
  }
 ],
 "metadata": {
  "kernelspec": {
   "display_name": "Python 3",
   "language": "python",
   "name": "python3"
  },
  "language_info": {
   "codemirror_mode": {
    "name": "ipython",
    "version": 3
   },
   "file_extension": ".py",
   "mimetype": "text/x-python",
   "name": "python",
   "nbconvert_exporter": "python",
   "pygments_lexer": "ipython3",
   "version": "3.11.5"
  }
 },
 "nbformat": 4,
 "nbformat_minor": 2
}
